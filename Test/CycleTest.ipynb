{
 "cells": [
  {
   "cell_type": "code",
   "execution_count": 1,
   "metadata": {},
   "outputs": [],
   "source": [
    "\n",
    "import sys\n",
    "import os\n",
    "import matplotlib.pyplot as  plt\n",
    "sys.path.append('..')\n",
    "from GamryFuncs import *\n",
    "cwd = os.getcwd()"
   ]
  },
  {
   "cell_type": "markdown",
   "metadata": {},
   "source": [
    "Matplotlib cosmetics"
   ]
  },
  {
   "cell_type": "code",
   "execution_count": 2,
   "metadata": {},
   "outputs": [],
   "source": [
    "SMALL_SIZE = 10\n",
    "MEDIUM_SIZE = 14\n",
    "BIGGER_SIZE = 20\n",
    "\n",
    "plt.rc('font', size=MEDIUM_SIZE)          # controls default text sizes\n",
    "plt.rc('axes', titlesize=MEDIUM_SIZE)     # fontsize of the axes title\n",
    "plt.rc('axes', labelsize=MEDIUM_SIZE)    # fontsize of the x and y labels\n",
    "plt.rc('xtick', labelsize=MEDIUM_SIZE)    # fontsize of the tick labels\n",
    "plt.rc('ytick', labelsize=MEDIUM_SIZE)    # fontsize of the tick labels\n",
    "plt.rc('legend', fontsize=SMALL_SIZE)    # legend fontsize\n",
    "plt.rc('figure', titlesize=BIGGER_SIZE)  # fontsize of the figure title"
   ]
  },
  {
   "cell_type": "markdown",
   "metadata": {},
   "source": [
    "Import GCD data "
   ]
  },
  {
   "cell_type": "code",
   "execution_count": 3,
   "metadata": {},
   "outputs": [],
   "source": [
    "path = cwd + '/TestData/Amostra_204_Cyclability_test/'\n",
    "\n",
    "GCD_files = import_gamry(path)\n",
    "data = parse_gcd(GCD_files, start = 0, step = 1)"
   ]
  },
  {
   "cell_type": "markdown",
   "metadata": {},
   "source": [
    "Calculate capacitance of the imported GCD curves"
   ]
  },
  {
   "cell_type": "code",
   "execution_count": 4,
   "metadata": {},
   "outputs": [
    {
     "data": {
      "text/html": [
       "<div>\n",
       "<style scoped>\n",
       "    .dataframe tbody tr th:only-of-type {\n",
       "        vertical-align: middle;\n",
       "    }\n",
       "\n",
       "    .dataframe tbody tr th {\n",
       "        vertical-align: top;\n",
       "    }\n",
       "\n",
       "    .dataframe thead th {\n",
       "        text-align: right;\n",
       "    }\n",
       "</style>\n",
       "<table border=\"1\" class=\"dataframe\">\n",
       "  <thead>\n",
       "    <tr style=\"text-align: right;\">\n",
       "      <th></th>\n",
       "      <th>Q charge (F/g)</th>\n",
       "      <th>Q discharge (F/g)</th>\n",
       "      <th>Coulombic efficiency (%)</th>\n",
       "      <th>Charge Time</th>\n",
       "      <th>Discharge Time</th>\n",
       "      <th>Energe density charge</th>\n",
       "      <th>Energe density discharge</th>\n",
       "    </tr>\n",
       "  </thead>\n",
       "  <tbody>\n",
       "    <tr>\n",
       "      <th>0</th>\n",
       "      <td>26.774829</td>\n",
       "      <td>50.062703</td>\n",
       "      <td>186.976744</td>\n",
       "      <td>2.15</td>\n",
       "      <td>4.02</td>\n",
       "      <td>8.632175</td>\n",
       "      <td>16.140159</td>\n",
       "    </tr>\n",
       "    <tr>\n",
       "      <th>1</th>\n",
       "      <td>36.984966</td>\n",
       "      <td>49.686873</td>\n",
       "      <td>134.343434</td>\n",
       "      <td>2.97</td>\n",
       "      <td>3.99</td>\n",
       "      <td>11.924981</td>\n",
       "      <td>16.020429</td>\n",
       "    </tr>\n",
       "    <tr>\n",
       "      <th>2</th>\n",
       "      <td>36.693413</td>\n",
       "      <td>49.505012</td>\n",
       "      <td>134.915254</td>\n",
       "      <td>2.95</td>\n",
       "      <td>3.98</td>\n",
       "      <td>11.858395</td>\n",
       "      <td>15.998784</td>\n",
       "    </tr>\n",
       "    <tr>\n",
       "      <th>3</th>\n",
       "      <td>36.473180</td>\n",
       "      <td>49.294810</td>\n",
       "      <td>135.153584</td>\n",
       "      <td>2.93</td>\n",
       "      <td>3.96</td>\n",
       "      <td>11.768785</td>\n",
       "      <td>15.905934</td>\n",
       "    </tr>\n",
       "    <tr>\n",
       "      <th>4</th>\n",
       "      <td>36.084912</td>\n",
       "      <td>49.150138</td>\n",
       "      <td>136.206897</td>\n",
       "      <td>2.90</td>\n",
       "      <td>3.95</td>\n",
       "      <td>11.653070</td>\n",
       "      <td>15.872285</td>\n",
       "    </tr>\n",
       "  </tbody>\n",
       "</table>\n",
       "</div>"
      ],
      "text/plain": [
       "   Q charge (F/g)  Q discharge (F/g)  Coulombic efficiency (%)  Charge Time  \\\n",
       "0       26.774829          50.062703                186.976744         2.15   \n",
       "1       36.984966          49.686873                134.343434         2.97   \n",
       "2       36.693413          49.505012                134.915254         2.95   \n",
       "3       36.473180          49.294810                135.153584         2.93   \n",
       "4       36.084912          49.150138                136.206897         2.90   \n",
       "\n",
       "   Discharge Time  Energe density charge  Energe density discharge  \n",
       "0            4.02               8.632175                 16.140159  \n",
       "1            3.99              11.924981                 16.020429  \n",
       "2            3.98              11.858395                 15.998784  \n",
       "3            3.96              11.768785                 15.905934  \n",
       "4            3.95              11.653070                 15.872285  "
      ]
     },
     "execution_count": 4,
     "metadata": {},
     "output_type": "execute_result"
    }
   ],
   "source": [
    "result = calculate_capacitance(data, current_values = 10, saveresults='n')\n",
    "result.head(5) # show first 5 lines\n"
   ]
  },
  {
   "cell_type": "markdown",
   "metadata": {},
   "source": [
    "Plot results"
   ]
  },
  {
   "cell_type": "code",
   "execution_count": 5,
   "metadata": {},
   "outputs": [
    {
     "data": {
      "text/plain": [
       "Text(0, 0.5, 'Capacity (F/g)')"
      ]
     },
     "execution_count": 5,
     "metadata": {},
     "output_type": "execute_result"
    },
    {
     "data": {
      "image/png": "[encoded data removed]",
      "text/plain": [
       "<Figure size 640x480 with 1 Axes>"
      ]
     },
     "metadata": {},
     "output_type": "display_data"
    }
   ],
   "source": [
    "fig, ax = plt.subplots()\n",
    "\n",
    "ax.plot(result['Q discharge (F/g)'], marker = 'o', color = 'black', markersize = 5, linestyle = '')\n",
    "ax.set_xlabel('Cycles (n)', weight='bold')\n",
    "ax.set_ylabel('Capacity (F/g)', weight='bold')"
   ]
  }
 ],
 "metadata": {
  "kernelspec": {
   "display_name": "3.12.2",
   "language": "python",
   "name": "python3"
  },
  "language_info": {
   "codemirror_mode": {
    "name": "ipython",
    "version": 3
   },
   "file_extension": ".py",
   "mimetype": "text/x-python",
   "name": "python",
   "nbconvert_exporter": "python",
   "pygments_lexer": "ipython3",
   "version": "3.12.2"
  }
 },
 "nbformat": 4,
 "nbformat_minor": 2
}
