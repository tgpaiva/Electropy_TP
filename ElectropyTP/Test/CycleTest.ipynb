{
 "cells": [
  {
   "cell_type": "code",
   "execution_count": 1,
   "metadata": {},
   "outputs": [],
   "source": [
    "import sys\n",
    "from pathlib import Path\n",
    "sys.path.append('..')\n",
    "from gamry_funcs import *\n",
    "cwd = Path.cwd()"
   ]
  },
  {
   "cell_type": "markdown",
   "metadata": {},
   "source": [
    "Import GCD data "
   ]
  },
  {
   "cell_type": "code",
   "execution_count": 2,
   "metadata": {},
   "outputs": [],
   "source": [
    "path = cwd / 'TestData' / 'Amostra_204_Cyclability_test'\n",
    "\n",
    "GCD_files = import_gamry(path)\n",
    "data = parse_gcd(GCD_files, start = 0, step = 1)"
   ]
  },
  {
   "cell_type": "markdown",
   "metadata": {},
   "source": [
    "Calculate capacitance of the imported GCD curves"
   ]
  },
  {
   "cell_type": "code",
   "execution_count": 3,
   "metadata": {},
   "outputs": [
    {
     "data": {
      "application/vnd.microsoft.datawrangler.viewer.v0+json": {
       "columns": [
        {
         "name": "index",
         "rawType": "int64",
         "type": "integer"
        },
        {
         "name": "Q charge (F/g)",
         "rawType": "float64",
         "type": "float"
        },
        {
         "name": "Q discharge (F/g)",
         "rawType": "float64",
         "type": "float"
        },
        {
         "name": "Coulombic efficiency (%)",
         "rawType": "float64",
         "type": "float"
        },
        {
         "name": "Charge Time",
         "rawType": "float64",
         "type": "float"
        },
        {
         "name": "Discharge Time",
         "rawType": "float64",
         "type": "float"
        },
        {
         "name": "Energy density charge",
         "rawType": "float64",
         "type": "float"
        },
        {
         "name": "Energy density discharge",
         "rawType": "float64",
         "type": "float"
        },
        {
         "name": "file_number",
         "rawType": "int64",
         "type": "integer"
        }
       ],
       "ref": "e40b598a-9762-4aaa-8946-23483eab3ff9",
       "rows": [
        [
         "0",
         "27.557354545233157",
         "51.3976705704116",
         "186.51162790697674",
         "2.15",
         "4.01",
         "8.387053250000001",
         "15.642829549999998",
         "1"
        ],
        [
         "1",
         "38.0767766277822",
         "51.02544477393035",
         "134.006734006734",
         "2.97",
         "3.98",
         "11.583044550000002",
         "15.5220597",
         "10"
        ],
        [
         "2",
         "37.779197877193276",
         "50.84183578727365",
         "134.57627118644066",
         "2.95",
         "3.9699999999999998",
         "11.517581750000002",
         "15.499932049999998",
         "20"
        ],
        [
         "3",
         "37.55596543825761",
         "50.63005579560326",
         "134.81228668941978",
         "2.93",
         "3.9499999999999997",
         "11.42947585",
         "15.40833775",
         "30"
        ],
        [
         "4",
         "37.1597639201757",
         "50.48602408465249",
         "135.8620689655172",
         "2.9",
         "3.9399999999999995",
         "11.316003000000002",
         "15.374155799999999",
         "50"
        ]
       ],
       "shape": {
        "columns": 8,
        "rows": 5
       }
      },
      "text/html": [
       "<div>\n",
       "<style scoped>\n",
       "    .dataframe tbody tr th:only-of-type {\n",
       "        vertical-align: middle;\n",
       "    }\n",
       "\n",
       "    .dataframe tbody tr th {\n",
       "        vertical-align: top;\n",
       "    }\n",
       "\n",
       "    .dataframe thead th {\n",
       "        text-align: right;\n",
       "    }\n",
       "</style>\n",
       "<table border=\"1\" class=\"dataframe\">\n",
       "  <thead>\n",
       "    <tr style=\"text-align: right;\">\n",
       "      <th></th>\n",
       "      <th>Q charge (F/g)</th>\n",
       "      <th>Q discharge (F/g)</th>\n",
       "      <th>Coulombic efficiency (%)</th>\n",
       "      <th>Charge Time</th>\n",
       "      <th>Discharge Time</th>\n",
       "      <th>Energy density charge</th>\n",
       "      <th>Energy density discharge</th>\n",
       "      <th>file_number</th>\n",
       "    </tr>\n",
       "  </thead>\n",
       "  <tbody>\n",
       "    <tr>\n",
       "      <th>0</th>\n",
       "      <td>27.557355</td>\n",
       "      <td>51.397671</td>\n",
       "      <td>186.511628</td>\n",
       "      <td>2.15</td>\n",
       "      <td>4.01</td>\n",
       "      <td>8.387053</td>\n",
       "      <td>15.642830</td>\n",
       "      <td>1</td>\n",
       "    </tr>\n",
       "    <tr>\n",
       "      <th>1</th>\n",
       "      <td>38.076777</td>\n",
       "      <td>51.025445</td>\n",
       "      <td>134.006734</td>\n",
       "      <td>2.97</td>\n",
       "      <td>3.98</td>\n",
       "      <td>11.583045</td>\n",
       "      <td>15.522060</td>\n",
       "      <td>10</td>\n",
       "    </tr>\n",
       "    <tr>\n",
       "      <th>2</th>\n",
       "      <td>37.779198</td>\n",
       "      <td>50.841836</td>\n",
       "      <td>134.576271</td>\n",
       "      <td>2.95</td>\n",
       "      <td>3.97</td>\n",
       "      <td>11.517582</td>\n",
       "      <td>15.499932</td>\n",
       "      <td>20</td>\n",
       "    </tr>\n",
       "    <tr>\n",
       "      <th>3</th>\n",
       "      <td>37.555965</td>\n",
       "      <td>50.630056</td>\n",
       "      <td>134.812287</td>\n",
       "      <td>2.93</td>\n",
       "      <td>3.95</td>\n",
       "      <td>11.429476</td>\n",
       "      <td>15.408338</td>\n",
       "      <td>30</td>\n",
       "    </tr>\n",
       "    <tr>\n",
       "      <th>4</th>\n",
       "      <td>37.159764</td>\n",
       "      <td>50.486024</td>\n",
       "      <td>135.862069</td>\n",
       "      <td>2.90</td>\n",
       "      <td>3.94</td>\n",
       "      <td>11.316003</td>\n",
       "      <td>15.374156</td>\n",
       "      <td>50</td>\n",
       "    </tr>\n",
       "  </tbody>\n",
       "</table>\n",
       "</div>"
      ],
      "text/plain": [
       "   Q charge (F/g)  Q discharge (F/g)  Coulombic efficiency (%)  Charge Time  \\\n",
       "0       27.557355          51.397671                186.511628         2.15   \n",
       "1       38.076777          51.025445                134.006734         2.97   \n",
       "2       37.779198          50.841836                134.576271         2.95   \n",
       "3       37.555965          50.630056                134.812287         2.93   \n",
       "4       37.159764          50.486024                135.862069         2.90   \n",
       "\n",
       "   Discharge Time  Energy density charge  Energy density discharge  \\\n",
       "0            4.01               8.387053                 15.642830   \n",
       "1            3.98              11.583045                 15.522060   \n",
       "2            3.97              11.517582                 15.499932   \n",
       "3            3.95              11.429476                 15.408338   \n",
       "4            3.94              11.316003                 15.374156   \n",
       "\n",
       "   file_number  \n",
       "0            1  \n",
       "1           10  \n",
       "2           20  \n",
       "3           30  \n",
       "4           50  "
      ]
     },
     "execution_count": 3,
     "metadata": {},
     "output_type": "execute_result"
    }
   ],
   "source": [
    "result = calculate_capacitance(data, current_values = 10, saveresults='n')\n",
    "result[\"file_number\"] = [obj.file_number for obj in data]\n",
    "result.head(5) # show first 5 lines\n"
   ]
  },
  {
   "cell_type": "markdown",
   "metadata": {},
   "source": [
    "Plot results"
   ]
  },
  {
   "cell_type": "code",
   "execution_count": 4,
   "metadata": {},
   "outputs": [
    {
     "data": {
      "image/png": "[encoded data removed]",
      "text/plain": [
       "<Figure size 640x480 with 1 Axes>"
      ]
     },
     "metadata": {},
     "output_type": "display_data"
    }
   ],
   "source": [
    "plot_cycling_test(result, saveplot = 'n', outname = 'Amostra_204_Cyclability_test')"
   ]
  }
 ],
 "metadata": {
  "kernelspec": {
   "display_name": "base",
   "language": "python",
   "name": "python3"
  },
  "language_info": {
   "codemirror_mode": {
    "name": "ipython",
    "version": 3
   },
   "file_extension": ".py",
   "mimetype": "text/x-python",
   "name": "python",
   "nbconvert_exporter": "python",
   "pygments_lexer": "ipython3",
   "version": "3.12.9"
  }
 },
 "nbformat": 4,
 "nbformat_minor": 2
}
